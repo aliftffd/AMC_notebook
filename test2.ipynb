{
 "cells": [
  {
   "cell_type": "code",
   "execution_count": 1,
   "id": "4d9eaf34",
   "metadata": {},
   "outputs": [],
   "source": [
    "import numpy as np\n",
    "import pandas as pd\n",
    "import h5py \n",
    "import torch\n",
    "import torch.nn as nn\n",
    "import gc\n",
    "from torch.utils.data import Dataset, DataLoader\n",
    "from sklearn.model_selection import train_test_split\n",
    "from sklearn.metrics import confusion_matrix, ConfusionMatrixDisplay\n",
    "import matplotlib.pyplot as plt\n",
    "from tqdm import tqdm\n"
   ]
  },
  {
   "cell_type": "code",
   "execution_count": 2,
   "id": "5049963f",
   "metadata": {},
   "outputs": [
    {
     "name": "stdout",
     "output_type": "stream",
     "text": [
      "Using device: cuda\n"
     ]
    }
   ],
   "source": [
    "device = torch.device(\"cuda\" if torch.cuda.is_available() else \"cpu\")\n",
    "print(\"Using device:\", device)\n"
   ]
  },
  {
   "cell_type": "code",
   "execution_count": 3,
   "id": "72265c78",
   "metadata": {},
   "outputs": [],
   "source": [
    "classes = ['OOK', '4ASK', '8ASK', 'BPSK', 'QPSK', '8PSK', '16PSK', '32PSK',\n",
    "                           '16APSK', '32APSK', '64APSK', '128APSK', '16QAM', '32QAM', '64QAM',\n",
    "                           '128QAM', '256QAM', 'AM-SSB-WC', 'AM-SSB-SC', 'AM-DSB-WC', 'AM-DSB-SC',\n",
    "                           'FM', 'GMSK', 'OQPSK']\n",
    "\n",
    "digital_modulation = ['OOK', '4ASK', '8ASK', 'BPSK', 'QPSK', '8PSK', '16PSK', '32PSK', '16APSK',\n",
    "                              '32APSK', '64APSK', '128APSK', '16QAM', '32QAM', '64QAM', '128QAM', '256QAM']\n",
    "\n",
    "digital_modulation_id = [classes.index(cls) for cls in digital_modulation]\n",
    "\n",
    "N_SNR = 10 "
   ]
  },
  {
   "cell_type": "code",
   "execution_count": 4,
   "id": "76000d56-268a-48d5-8614-c2872d065b36",
   "metadata": {},
   "outputs": [],
   "source": [
    "def get_data(ids, labels):\n",
    "    # Define dataset constants\n",
    "    SAMPLES_PER_SNR = 4096\n",
    "    NUM_SNR_LEVELS = 26\n",
    "    TOTAL_SAMPLES_PER_CLASS = SAMPLES_PER_SNR * NUM_SNR_LEVELS  # 4096*26=106496\n",
    "\n",
    "    X_data = []\n",
    "    y_data = []\n",
    "\n",
    "    with h5py.File(\"/home/lipplopp/Documents/research/notebook/notebook_1/dataset/radioml2018/versions/2/GOLD_XYZ_OSC.0001_1024.hdf5\", \"r\") as file:\n",
    "        for class_id in tqdm(ids):\n",
    "            # Calculate slice indices\n",
    "            start_idx = TOTAL_SAMPLES_PER_CLASS * class_id\n",
    "            end_idx = TOTAL_SAMPLES_PER_CLASS * (class_id + 1)\n",
    "            \n",
    "            # Load data\n",
    "            X_slice = file['X'][start_idx:end_idx]  # Shape: (106496, 1024, 2)\n",
    "            y_slice = file['Y'][start_idx:end_idx]  # Shape: (106496, 24)\n",
    "            \n",
    "            # Process labels\n",
    "            y_labels = y_slice.argmax(axis=1)  # Convert one-hot to class indices\n",
    "            \n",
    "            X_data.append(X_slice)\n",
    "            y_data.append(y_labels)\n",
    "\n",
    "    # Combine all selected classes\n",
    "    X_data = np.concatenate(X_data, axis=0)\n",
    "    y_data = np.concatenate(y_data, axis=0)\n",
    "\n",
    "    return X_data, y_data"
   ]
  },
  {
   "cell_type": "code",
   "execution_count": 6,
   "id": "0737f330-bc1e-4190-8827-3501ccd9e15a",
   "metadata": {},
   "outputs": [
    {
     "name": "stderr",
     "output_type": "stream",
     "text": [
      "100%|███████| 3/3 [00:06<00:00,  2.16s/it]\n"
     ]
    },
    {
     "name": "stdout",
     "output_type": "stream",
     "text": [
      "Input shape: (319488, 1024, 2)\n",
      "Labels shape: (319488,)\n"
     ]
    }
   ],
   "source": [
    "# Define your modulation classes (24 total in RadioML 2018)\n",
    "selected_classes = [0, 1, 2]  # Example: BPSK, QPSK, 8PSK\n",
    "classes_labels = [\"BPSK\", \"QPSK\", \"8PSK\"]\n",
    "\n",
    "# Load data\n",
    "X, y = get_data(ids=selected_classes, labels=classes_labels)\n",
    "\n",
    "# Verify shapes\n",
    "print(f\"Input shape: {X.shape}\")  # Should be (319488, 1024, 2) for 3 classes\n",
    "print(f\"Labels shape: {y.shape}\")  # Should be (319488,)"
   ]
  },
  {
   "cell_type": "code",
   "execution_count": 26,
   "id": "f186fdcb-15ab-4941-b4b2-e513aebb79c5",
   "metadata": {},
   "outputs": [
    {
     "name": "stdout",
     "output_type": "stream",
     "text": [
      "Columns before renaming: ['class']\n"
     ]
    },
    {
     "ename": "ValueError",
     "evalue": "Length mismatch: Expected axis has 1 elements, new values have 3 elements",
     "output_type": "error",
     "traceback": [
      "\u001b[31m---------------------------------------------------------------------------\u001b[39m",
      "\u001b[31mValueError\u001b[39m                                Traceback (most recent call last)",
      "\u001b[36mCell\u001b[39m\u001b[36m \u001b[39m\u001b[32mIn[26]\u001b[39m\u001b[32m, line 8\u001b[39m\n\u001b[32m      5\u001b[39m \u001b[38;5;28mprint\u001b[39m(\u001b[33m\"\u001b[39m\u001b[33mColumns before renaming:\u001b[39m\u001b[33m\"\u001b[39m, Y_fsk.columns.tolist())  \u001b[38;5;66;03m# Should see ['class_0', 'class_1', 'class_2']\u001b[39;00m\n\u001b[32m      7\u001b[39m \u001b[38;5;66;03m# # Rename columns to match actual classes (OOK, 4ASK, 8ASK)\u001b[39;00m\n\u001b[32m----> \u001b[39m\u001b[32m8\u001b[39m \u001b[43mY_fsk\u001b[49m\u001b[43m.\u001b[49m\u001b[43mcolumns\u001b[49m = [\u001b[33m'\u001b[39m\u001b[33m16APSK\u001b[39m\u001b[33m'\u001b[39m, \u001b[33m'\u001b[39m\u001b[33m32APSK\u001b[39m\u001b[33m'\u001b[39m, \u001b[33m'\u001b[39m\u001b[33m64APSK\u001b[39m\u001b[33m'\u001b[39m]\n\u001b[32m     10\u001b[39m \u001b[38;5;66;03m# # Verify final shape\u001b[39;00m\n\u001b[32m     11\u001b[39m \u001b[38;5;66;03m# print(\"Final shape:\", Y_fsk.shape)\u001b[39;00m\n",
      "\u001b[36mFile \u001b[39m\u001b[32m~/anaconda3/envs/ai_sdr/lib/python3.12/site-packages/pandas/core/generic.py:6313\u001b[39m, in \u001b[36mNDFrame.__setattr__\u001b[39m\u001b[34m(self, name, value)\u001b[39m\n\u001b[32m   6311\u001b[39m \u001b[38;5;28;01mtry\u001b[39;00m:\n\u001b[32m   6312\u001b[39m     \u001b[38;5;28mobject\u001b[39m.\u001b[34m__getattribute__\u001b[39m(\u001b[38;5;28mself\u001b[39m, name)\n\u001b[32m-> \u001b[39m\u001b[32m6313\u001b[39m     \u001b[38;5;28;01mreturn\u001b[39;00m \u001b[38;5;28;43mobject\u001b[39;49m\u001b[43m.\u001b[49m\u001b[34;43m__setattr__\u001b[39;49m\u001b[43m(\u001b[49m\u001b[38;5;28;43mself\u001b[39;49m\u001b[43m,\u001b[49m\u001b[43m \u001b[49m\u001b[43mname\u001b[49m\u001b[43m,\u001b[49m\u001b[43m \u001b[49m\u001b[43mvalue\u001b[49m\u001b[43m)\u001b[49m\n\u001b[32m   6314\u001b[39m \u001b[38;5;28;01mexcept\u001b[39;00m \u001b[38;5;167;01mAttributeError\u001b[39;00m:\n\u001b[32m   6315\u001b[39m     \u001b[38;5;28;01mpass\u001b[39;00m\n",
      "\u001b[36mFile \u001b[39m\u001b[32mproperties.pyx:69\u001b[39m, in \u001b[36mpandas._libs.properties.AxisProperty.__set__\u001b[39m\u001b[34m()\u001b[39m\n",
      "\u001b[36mFile \u001b[39m\u001b[32m~/anaconda3/envs/ai_sdr/lib/python3.12/site-packages/pandas/core/generic.py:814\u001b[39m, in \u001b[36mNDFrame._set_axis\u001b[39m\u001b[34m(self, axis, labels)\u001b[39m\n\u001b[32m    809\u001b[39m \u001b[38;5;250m\u001b[39m\u001b[33;03m\"\"\"\u001b[39;00m\n\u001b[32m    810\u001b[39m \u001b[33;03mThis is called from the cython code when we set the `index` attribute\u001b[39;00m\n\u001b[32m    811\u001b[39m \u001b[33;03mdirectly, e.g. `series.index = [1, 2, 3]`.\u001b[39;00m\n\u001b[32m    812\u001b[39m \u001b[33;03m\"\"\"\u001b[39;00m\n\u001b[32m    813\u001b[39m labels = ensure_index(labels)\n\u001b[32m--> \u001b[39m\u001b[32m814\u001b[39m \u001b[38;5;28;43mself\u001b[39;49m\u001b[43m.\u001b[49m\u001b[43m_mgr\u001b[49m\u001b[43m.\u001b[49m\u001b[43mset_axis\u001b[49m\u001b[43m(\u001b[49m\u001b[43maxis\u001b[49m\u001b[43m,\u001b[49m\u001b[43m \u001b[49m\u001b[43mlabels\u001b[49m\u001b[43m)\u001b[49m\n\u001b[32m    815\u001b[39m \u001b[38;5;28mself\u001b[39m._clear_item_cache()\n",
      "\u001b[36mFile \u001b[39m\u001b[32m~/anaconda3/envs/ai_sdr/lib/python3.12/site-packages/pandas/core/internals/managers.py:238\u001b[39m, in \u001b[36mBaseBlockManager.set_axis\u001b[39m\u001b[34m(self, axis, new_labels)\u001b[39m\n\u001b[32m    236\u001b[39m \u001b[38;5;28;01mdef\u001b[39;00m\u001b[38;5;250m \u001b[39m\u001b[34mset_axis\u001b[39m(\u001b[38;5;28mself\u001b[39m, axis: AxisInt, new_labels: Index) -> \u001b[38;5;28;01mNone\u001b[39;00m:\n\u001b[32m    237\u001b[39m     \u001b[38;5;66;03m# Caller is responsible for ensuring we have an Index object.\u001b[39;00m\n\u001b[32m--> \u001b[39m\u001b[32m238\u001b[39m     \u001b[38;5;28;43mself\u001b[39;49m\u001b[43m.\u001b[49m\u001b[43m_validate_set_axis\u001b[49m\u001b[43m(\u001b[49m\u001b[43maxis\u001b[49m\u001b[43m,\u001b[49m\u001b[43m \u001b[49m\u001b[43mnew_labels\u001b[49m\u001b[43m)\u001b[49m\n\u001b[32m    239\u001b[39m     \u001b[38;5;28mself\u001b[39m.axes[axis] = new_labels\n",
      "\u001b[36mFile \u001b[39m\u001b[32m~/anaconda3/envs/ai_sdr/lib/python3.12/site-packages/pandas/core/internals/base.py:98\u001b[39m, in \u001b[36mDataManager._validate_set_axis\u001b[39m\u001b[34m(self, axis, new_labels)\u001b[39m\n\u001b[32m     95\u001b[39m     \u001b[38;5;28;01mpass\u001b[39;00m\n\u001b[32m     97\u001b[39m \u001b[38;5;28;01melif\u001b[39;00m new_len != old_len:\n\u001b[32m---> \u001b[39m\u001b[32m98\u001b[39m     \u001b[38;5;28;01mraise\u001b[39;00m \u001b[38;5;167;01mValueError\u001b[39;00m(\n\u001b[32m     99\u001b[39m         \u001b[33mf\u001b[39m\u001b[33m\"\u001b[39m\u001b[33mLength mismatch: Expected axis has \u001b[39m\u001b[38;5;132;01m{\u001b[39;00mold_len\u001b[38;5;132;01m}\u001b[39;00m\u001b[33m elements, new \u001b[39m\u001b[33m\"\u001b[39m\n\u001b[32m    100\u001b[39m         \u001b[33mf\u001b[39m\u001b[33m\"\u001b[39m\u001b[33mvalues have \u001b[39m\u001b[38;5;132;01m{\u001b[39;00mnew_len\u001b[38;5;132;01m}\u001b[39;00m\u001b[33m elements\u001b[39m\u001b[33m\"\u001b[39m\n\u001b[32m    101\u001b[39m     )\n",
      "\u001b[31mValueError\u001b[39m: Length mismatch: Expected axis has 1 elements, new values have 3 elements"
     ]
    }
   ],
   "source": [
    "# Convert class indices to one-hot encoded DataFrame\n",
    "Y_fsk = pd.get_dummies(pd.DataFrame(y, columns=['class'])).astype(int)\n",
    "\n",
    "# Verify the number of columns (should be 3 for classes 0,1,2)\n",
    "print(\"Columns before renaming:\", Y_fsk.columns.tolist())  # Should see ['class_0', 'class_1', 'class_2']\n",
    "\n",
    "# # Rename columns to match actual classes (OOK, 4ASK, 8ASK)\n",
    "Y_fsk.columns = ['16APSK', '32APSK', '64APSK']\n",
    "\n",
    "# # Verify final shape\n",
    "# print(\"Final shape:\", Y_fsk.shape)"
   ]
  },
  {
   "cell_type": "code",
   "execution_count": null,
   "id": "8e80be2c-e4b6-4ffd-9b5f-4caf10f13425",
   "metadata": {},
   "outputs": [],
   "source": []
  },
  {
   "cell_type": "code",
   "execution_count": null,
   "id": "4578b79c-e07f-4781-8caf-be2dd0a0b1fb",
   "metadata": {},
   "outputs": [],
   "source": []
  }
 ],
 "metadata": {
  "kernelspec": {
   "display_name": "Python (GNU Radio ai_sdr)",
   "language": "python",
   "name": "ai_sdr"
  },
  "language_info": {
   "codemirror_mode": {
    "name": "ipython",
    "version": 3
   },
   "file_extension": ".py",
   "mimetype": "text/x-python",
   "name": "python",
   "nbconvert_exporter": "python",
   "pygments_lexer": "ipython3",
   "version": "3.12.10"
  }
 },
 "nbformat": 4,
 "nbformat_minor": 5
}
