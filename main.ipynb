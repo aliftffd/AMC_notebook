{
 "cells": [
  {
   "cell_type": "code",
   "execution_count": 71,
   "id": "959599f2",
   "metadata": {},
   "outputs": [],
   "source": [
    "import h5py \n",
    "import pandas as pd\n",
    "import numpy as np \n",
    "import torch\n",
    "import torch.nn as nn\n",
    "import torch.nn.functional as F\n",
    "from torch.utils.data import Dataset\n",
    "from torch.utils.data import DataLoader\n",
    "import torch.optim as optim\n",
    "from tqdm import tqdm\n",
    "from sklearn.model_selection import train_test_split"
   ]
  },
  {
   "cell_type": "code",
   "execution_count": 72,
   "id": "978a124f",
   "metadata": {},
   "outputs": [],
   "source": [
    "# Update this path if needed\n",
    "file_path = '/home/lipplopp/Documents/research/notebook/notebook_1/dataset/radioml2018/versions/2/GOLD_XYZ_OSC.0001_1024.hdf5'"
   ]
  },
  {
   "cell_type": "code",
   "execution_count": 73,
   "id": "06350aed",
   "metadata": {},
   "outputs": [
    {
     "name": "stdout",
     "output_type": "stream",
     "text": [
      "Keys: ['X', 'Y', 'Z']\n",
      "X shape is (10000, 1024, 2),\n",
      "Y shape is (10000, 24) and for Z shape is (10000, 1)\n"
     ]
    }
   ],
   "source": [
    "with h5py.File(file_path, 'r') as f:\n",
    "    print(\"Keys:\", list(f.keys()))\n",
    "    \n",
    "    # Example: load first 10000 samples\n",
    "    X = f['X'][:10000]\n",
    "    Y = f['Y'][:10000]\n",
    "    Z = f['Z'][:10000]\n",
    "\n",
    "print(f\"X shape is {X.shape},\\nY shape is {Y.shape} and for Z shape is {Z.shape}\")"
   ]
  },
  {
   "cell_type": "code",
   "execution_count": 88,
   "id": "53dd9392",
   "metadata": {},
   "outputs": [],
   "source": [
    "SELECTED_MODS = ['4ASK', 'BPSK', 'QPSK', '16PSK', '16QAM', \n",
    "                  'FM', 'AM-DSB-WC', '32APSK']\n",
    "BATCH_SIZE = 64\n",
    "LR         = 1e-3\n",
    "EPOCHS     = 10\n",
    "TRAIN_FRAC = 0.8\n",
    "RANDOM_SEED = 42\n",
    "\n",
    "class RadioML2018(Dataset):\n",
    "    def __init__(self, h5_path, selected_mods, snr_start=None, snr_end=None):\n",
    "        super().__init__()\n",
    "        f = h5py.File(h5_path, 'r')\n",
    "        X = f['X'][:]    # shape (n_samples, 1024, 2)\n",
    "        Y = f['Y'][:]    # shape (n_samples, 24)\n",
    "        f.close()\n",
    "\n",
    "        # Build a mapping from modulation name -> index in Y\n",
    "        all_mods = ['OOK','4ASK','8ASK','BPSK','QPSK','8PSK','16PSK','32PSK',\n",
    "                    '16APSK','32APSK','64APSK','128APSK','16QAM','32QAM','64QAM',\n",
    "                    '128QAM','256QAM','AM-SSB-WC','AM-SSB-SC','AM-DSB-WC','AM-DSB-SC',\n",
    "                    'FM','GMSK','OQPSK']\n",
    "        sel_ids = [all_mods.index(m) for m in selected_mods]\n",
    "\n",
    "        # Filter by selected classes (and optionally a SNR range if you want)\n",
    "        mask = np.any(Y[:, sel_ids] == 1, axis=1)\n",
    "        self.X = X[mask]\n",
    "        # get the single-hot label index 0..len(sel_ids)-1\n",
    "        self.Y = np.argmax(Y[mask][:, sel_ids], axis=1).astype(np.int64)\n",
    "\n",
    "    def __len__(self):\n",
    "        return len(self.Y)\n",
    "\n",
    "    def __getitem__(self, idx):\n",
    "        # returns (x, y) where x is [2,1024] float32, y is int64\n",
    "        x = self.X[idx].astype(np.float32).transpose(1,0)  # from (1024,2)→(2,1024)\n",
    "        y = self.Y[idx]\n",
    "        return torch.from_numpy(x), y\n"
   ]
  },
  {
   "cell_type": "code",
   "execution_count": 85,
   "id": "2a000477",
   "metadata": {},
   "outputs": [
    {
     "name": "stdout",
     "output_type": "stream",
     "text": [
      "Batch X shape: torch.Size([64, 2, 1024])\n",
      "Batch Y shape: torch.Size([64])\n",
      "Y unique labels in batch: tensor([0, 1, 2, 3, 4, 5, 6, 7])\n"
     ]
    }
   ],
   "source": [
    "base_mod_classes = [\n",
    "    'OOK', '4ASK', '8ASK', 'BPSK', 'QPSK', '8PSK', '16PSK', '32PSK',\n",
    "    '16APSK', '32APSK', '64APSK', '128APSK', '16QAM', '32QAM', '64QAM',\n",
    "    '128QAM', '256QAM', 'AM-SSB-WC', 'AM-SSB-SC', 'AM-DSB-WC', 'AM-DSB-SC',\n",
    "    'FM', 'GMSK', 'OQPSK'\n",
    "]\n",
    "\n",
    "selected_mods = ['4ASK', 'BPSK', 'QPSK', '16PSK', '16QAM', 'FM', 'AM-DSB-WC', '32APSK']\n",
    "\n",
    "train_ds = RadioML2018Dataset(file_path, selected_mods, base_mod_classes, train=True)\n",
    "test_ds = RadioML2018Dataset(file_path, selected_mods, base_mod_classes, train=False)\n",
    "\n",
    "train_loader = DataLoader(train_ds, batch_size=64, shuffle=True)\n",
    "test_loader = DataLoader(test_ds, batch_size=64)\n",
    "\n",
    "# Quick sanity check\n",
    "for xb, yb in train_loader:\n",
    "    print(\"Batch X shape:\", xb.shape)  # (64, 2, 1024)\n",
    "    print(\"Batch Y shape:\", yb.shape)  # (64,)\n",
    "    print(\"Y unique labels in batch:\", yb.unique())\n",
    "    break"
   ]
  },
  {
   "cell_type": "code",
   "execution_count": 87,
   "id": "2b29a745",
   "metadata": {},
   "outputs": [
    {
     "ename": "NameError",
     "evalue": "name 'H5_PATH' is not defined",
     "output_type": "error",
     "traceback": [
      "\u001b[31m---------------------------------------------------------------------------\u001b[39m",
      "\u001b[31mNameError\u001b[39m                                 Traceback (most recent call last)",
      "\u001b[36mCell\u001b[39m\u001b[36m \u001b[39m\u001b[32mIn[87]\u001b[39m\u001b[32m, line 1\u001b[39m\n\u001b[32m----> \u001b[39m\u001b[32m1\u001b[39m ds = RadioML2018Dataset(\u001b[43mH5_PATH\u001b[49m, SELECTED_MODS)\n\u001b[32m      2\u001b[39m n  = \u001b[38;5;28mlen\u001b[39m(ds)\n\u001b[32m      3\u001b[39m idx = np.arange(n)\n",
      "\u001b[31mNameError\u001b[39m: name 'H5_PATH' is not defined"
     ]
    }
   ],
   "source": [
    "ds = RadioML2018Dataset(H5_PATH, SELECTED_MODS)\n",
    "n  = len(ds)\n",
    "idx = np.arange(n)\n",
    "np.random.seed(RANDOM_SEED)\n",
    "np.random.shuffle(idx)\n",
    "split = int(TRAIN_FRAC * n)\n",
    "train_idx, test_idx = idx[:split], idx[split:]"
   ]
  },
  {
   "cell_type": "code",
   "execution_count": 76,
   "id": "8e2f16ed",
   "metadata": {},
   "outputs": [],
   "source": [
    "class AMCCNN(nn.Module):\n",
    "    def __init__(self, num_classes=8):\n",
    "        super(AMCCNN, self).__init__()\n",
    "        self.conv1 = nn.Conv1d(2, 64, kernel_size=7, stride=1, padding=3)\n",
    "        self.bn1 = nn.BatchNorm1d(64)\n",
    "        self.conv2 = nn.Conv1d(64, 128, kernel_size=5, stride=1, padding=2)\n",
    "        self.bn2 = nn.BatchNorm1d(128)\n",
    "        self.conv3 = nn.Conv1d(128, 256, kernel_size=3, stride=1, padding=1)\n",
    "        self.bn3 = nn.BatchNorm1d(256)\n",
    "        self.pool = nn.AdaptiveAvgPool1d(1)  # Collapse time dimension\n",
    "        self.fc = nn.Linear(256, num_classes)\n",
    "\n",
    "    def forward(self, x):\n",
    "        x = F.relu(self.bn1(self.conv1(x)))   # [B, 64, 1024]\n",
    "        x = F.relu(self.bn2(self.conv2(x)))   # [B, 128, 1024]\n",
    "        x = F.relu(self.bn3(self.conv3(x)))   # [B, 256, 1024]\n",
    "        x = self.pool(x).squeeze(-1)          # [B, 256]\n",
    "        x = self.fc(x)                        # [B, num_classes]\n",
    "        return x"
   ]
  },
  {
   "cell_type": "code",
   "execution_count": 77,
   "id": "e2de1798",
   "metadata": {},
   "outputs": [
    {
     "name": "stdout",
     "output_type": "stream",
     "text": [
      "Using device: cuda\n"
     ]
    },
    {
     "name": "stderr",
     "output_type": "stream",
     "text": [
      "Epoch 1/10: 100%|██████████| 1639/1639 [01:13<00:00, 22.38it/s]\n"
     ]
    },
    {
     "name": "stdout",
     "output_type": "stream",
     "text": [
      "Train Loss: 0.1195 | Accuracy: 96.79%\n"
     ]
    },
    {
     "name": "stderr",
     "output_type": "stream",
     "text": [
      "Epoch 2/10: 100%|██████████| 1639/1639 [01:29<00:00, 18.33it/s]\n"
     ]
    },
    {
     "name": "stdout",
     "output_type": "stream",
     "text": [
      "Train Loss: 0.0140 | Accuracy: 99.67%\n"
     ]
    },
    {
     "name": "stderr",
     "output_type": "stream",
     "text": [
      "Epoch 3/10: 100%|██████████| 1639/1639 [01:32<00:00, 17.78it/s]\n"
     ]
    },
    {
     "name": "stdout",
     "output_type": "stream",
     "text": [
      "Train Loss: 0.0064 | Accuracy: 99.84%\n"
     ]
    },
    {
     "name": "stderr",
     "output_type": "stream",
     "text": [
      "Epoch 4/10: 100%|██████████| 1639/1639 [01:36<00:00, 16.97it/s]\n"
     ]
    },
    {
     "name": "stdout",
     "output_type": "stream",
     "text": [
      "Train Loss: 0.0043 | Accuracy: 99.89%\n"
     ]
    },
    {
     "name": "stderr",
     "output_type": "stream",
     "text": [
      "Epoch 5/10: 100%|██████████| 1639/1639 [01:37<00:00, 16.77it/s]\n"
     ]
    },
    {
     "name": "stdout",
     "output_type": "stream",
     "text": [
      "Train Loss: 0.0057 | Accuracy: 99.83%\n"
     ]
    },
    {
     "name": "stderr",
     "output_type": "stream",
     "text": [
      "Epoch 6/10: 100%|██████████| 1639/1639 [01:36<00:00, 16.97it/s]\n"
     ]
    },
    {
     "name": "stdout",
     "output_type": "stream",
     "text": [
      "Train Loss: 0.0052 | Accuracy: 99.84%\n"
     ]
    },
    {
     "name": "stderr",
     "output_type": "stream",
     "text": [
      "Epoch 7/10: 100%|██████████| 1639/1639 [01:35<00:00, 17.11it/s]\n"
     ]
    },
    {
     "name": "stdout",
     "output_type": "stream",
     "text": [
      "Train Loss: 0.0044 | Accuracy: 99.87%\n"
     ]
    },
    {
     "name": "stderr",
     "output_type": "stream",
     "text": [
      "Epoch 8/10: 100%|██████████| 1639/1639 [01:36<00:00, 17.03it/s]\n"
     ]
    },
    {
     "name": "stdout",
     "output_type": "stream",
     "text": [
      "Train Loss: 0.0036 | Accuracy: 99.89%\n"
     ]
    },
    {
     "name": "stderr",
     "output_type": "stream",
     "text": [
      "Epoch 9/10: 100%|██████████| 1639/1639 [01:33<00:00, 17.52it/s]\n"
     ]
    },
    {
     "name": "stdout",
     "output_type": "stream",
     "text": [
      "Train Loss: 0.0010 | Accuracy: 99.98%\n"
     ]
    },
    {
     "name": "stderr",
     "output_type": "stream",
     "text": [
      "Epoch 10/10: 100%|██████████| 1639/1639 [01:35<00:00, 17.23it/s]"
     ]
    },
    {
     "name": "stdout",
     "output_type": "stream",
     "text": [
      "Train Loss: 0.0049 | Accuracy: 99.85%\n"
     ]
    },
    {
     "name": "stderr",
     "output_type": "stream",
     "text": [
      "\n"
     ]
    }
   ],
   "source": [
    "device = torch.device(\"cuda\" if torch.cuda.is_available() else \"cpu\")\n",
    "print(\"Using device:\", device)\n",
    "\n",
    "model = AMCCNN(num_classes=8).to(device)\n",
    "optimizer = optim.Adam(model.parameters(), lr=1e-3)\n",
    "criterion = nn.CrossEntropyLoss()\n",
    "\n",
    "EPOCHS = 10\n",
    "\n",
    "for epoch in range(EPOCHS):\n",
    "    model.train()\n",
    "    running_loss = 0.0\n",
    "    correct = 0\n",
    "    total = 0\n",
    "\n",
    "    for xb, yb in tqdm(train_loader, desc=f\"Epoch {epoch+1}/{EPOCHS}\"):\n",
    "        xb, yb = xb.to(device), yb.to(device)\n",
    "\n",
    "        optimizer.zero_grad()\n",
    "        outputs = model(xb)\n",
    "        loss = criterion(outputs, yb)\n",
    "        loss.backward()\n",
    "        optimizer.step()\n",
    "\n",
    "        running_loss += loss.item()\n",
    "        _, predicted = torch.max(outputs, 1)\n",
    "        correct += (predicted == yb).sum().item()\n",
    "        total += yb.size(0)\n",
    "\n",
    "    acc = correct / total\n",
    "    print(f\"Train Loss: {running_loss/len(train_loader):.4f} | Accuracy: {acc*100:.2f}%\")\n"
   ]
  },
  {
   "cell_type": "code",
   "execution_count": 78,
   "id": "9a076907",
   "metadata": {},
   "outputs": [
    {
     "name": "stdout",
     "output_type": "stream",
     "text": [
      "Training samples: 52428\n",
      "Testing  samples: 13108\n"
     ]
    }
   ],
   "source": [
    "print(\"Training samples:\", len(train_dataset))\n",
    "print(\"Testing  samples:\", len(test_dataset))"
   ]
  },
  {
   "cell_type": "code",
   "execution_count": 79,
   "id": "f8b0bb8a",
   "metadata": {},
   "outputs": [
    {
     "name": "stdout",
     "output_type": "stream",
     "text": [
      "\n",
      "🧪 Test Accuracy: 100.00%\n"
     ]
    }
   ],
   "source": [
    "model.eval()\n",
    "correct = 0\n",
    "total = 0\n",
    "\n",
    "with torch.no_grad():\n",
    "    for xb, yb in test_loader:\n",
    "        xb, yb = xb.to(device), yb.to(device)\n",
    "        outputs = model(xb)\n",
    "        _, predicted = torch.max(outputs, 1)\n",
    "        correct += (predicted == yb).sum().item()\n",
    "        total += yb.size(0)\n",
    "\n",
    "test_acc = correct / total\n",
    "print(f\"\\n🧪 Test Accuracy: {test_acc * 100:.2f}%\")"
   ]
  },
  {
   "cell_type": "code",
   "execution_count": 84,
   "id": "af976c54",
   "metadata": {},
   "outputs": [
    {
     "data": {
      "image/png": "[encoded data removed]",
      "text/plain": [
       "<Figure size 640x480 with 2 Axes>"
      ]
     },
     "metadata": {},
     "output_type": "display_data"
    }
   ],
   "source": [
    "from sklearn.metrics import confusion_matrix, ConfusionMatrixDisplay\n",
    "import matplotlib.pyplot as plt\n",
    "\n",
    "# switch to eval mode and disable gradients\n",
    "model.eval()\n",
    "all_preds = []\n",
    "all_labels = []\n",
    "\n",
    "with torch.no_grad():\n",
    "    for xb, yb in test_loader:\n",
    "        xb, yb = xb.to(device), yb.to(device)\n",
    "\n",
    "        # forward pass\n",
    "        outputs = model(xb)\n",
    "        # get predicted class indices\n",
    "        preds = outputs.argmax(dim=1).cpu().numpy()\n",
    "        # gather everything\n",
    "        all_preds.extend(preds)\n",
    "        all_labels.extend(yb.cpu().numpy())\n",
    "\n",
    "# compute confusion matrix\n",
    "cm = confusion_matrix(all_labels, all_preds)\n",
    "\n",
    "# plot it\n",
    "disp = ConfusionMatrixDisplay(\n",
    "    confusion_matrix=cm,\n",
    "    display_labels=selected_mods  # your list of 8 class names\n",
    ")\n",
    "disp.plot(cmap=\"Blues\", xticks_rotation=45)\n",
    "plt.title(\"Confusion Matrix on Test Set\")\n",
    "plt.show()\n"
   ]
  },
  {
   "cell_type": "code",
   "execution_count": 45,
   "id": "c3019a83",
   "metadata": {},
   "outputs": [],
   "source": [
    "class HDF5RadioMLDataset(Dataset):\n",
    "    def __init__(self, h5_path, selected_classes, base_classes, snr_count=1, train=True, test_ratio=0.2):\n",
    "        self.h5_path = h5_path\n",
    "        self.base_classes = base_classes\n",
    "        self.selected_classes = selected_classes\n",
    "        self.snr_count = snr_count\n",
    "        self.samples_per_class = 106496\n",
    "        self.samples_per_snr = 4096\n",
    "\n",
    "        self.class_indices = [self.base_classes.index(c) for c in self.selected_classes]\n",
    "        self.indices = []\n",
    "\n",
    "        with h5py.File(self.h5_path, 'r') as f:\n",
    "            for label, class_idx in enumerate(self.class_indices):\n",
    "                start_idx = self.samples_per_class * (class_idx + 1) - self.samples_per_snr * self.snr_count\n",
    "                end_idx = self.samples_per_class * (class_idx + 1)\n",
    "                for i in range(start_idx, end_idx):\n",
    "                    self.indices.append((i, label))\n",
    "\n",
    "        # Train-test split\n",
    "        np.random.seed(42)\n",
    "        np.random.shuffle(self.indices)\n",
    "        split = int(len(self.indices) * (1 - test_ratio))\n",
    "        self.indices = self.indices[:split] if train else self.indices[split:]\n",
    "\n",
    "    def __len__(self):\n",
    "        return len(self.indices)\n",
    "\n",
    "    def __getitem__(self, idx):\n",
    "        i, label = self.indices[idx]\n",
    "        with h5py.File(self.h5_path, 'r') as f:\n",
    "            x = f['X'][i]  # shape: (2, 1024)\n",
    "        return torch.tensor(x, dtype=torch.float32), torch.tensor(label, dtype=torch.long)\n"
   ]
  },
  {
   "cell_type": "code",
   "execution_count": 46,
   "id": "143620d6",
   "metadata": {},
   "outputs": [],
   "source": [
    "base_classes = ['OOK', '4ASK', '8ASK', 'BPSK', 'QPSK', '8PSK', '16PSK', '32PSK',\n",
    "                '16APSK', '32APSK', '64APSK', '128APSK', '16QAM', '32QAM', '64QAM',\n",
    "                '128QAM', '256QAM', 'AM-SSB-WC', 'AM-SSB-SC', 'AM-DSB-WC', 'AM-DSB-SC',\n",
    "                'FM', 'GMSK', 'OQPSK']\n",
    "selected_classes = ['4ASK', 'BPSK', 'QPSK', '16PSK', '16QAM', 'FM', 'AM-DSB-WC', '32APSK']\n",
    "\n",
    "train_dataset = HDF5RadioMLDataset(file_path, selected_classes, base_classes, snr_count=2, train=True)\n",
    "test_dataset = HDF5RadioMLDataset(file_path, selected_classes, base_classes, snr_count=2, train=False)\n",
    "\n",
    "train_loader = DataLoader(train_dataset, batch_size=64, shuffle=True)\n",
    "test_loader = DataLoader(test_dataset, batch_size=64, shuffle=False)\n"
   ]
  },
  {
   "cell_type": "code",
   "execution_count": 67,
   "id": "35a6b649",
   "metadata": {},
   "outputs": [],
   "source": [
    "class CNNLSTMAMC(nn.Module):\n",
    "    def __init__(self, num_classes=8):\n",
    "        super().__init__()\n",
    "        def conv_block():\n",
    "            return nn.Sequential(\n",
    "                nn.Conv2d(1, 64, kernel_size=3),    # → (B,64,30,30)\n",
    "                nn.LeakyReLU(0.1),\n",
    "                nn.Conv2d(64, 64, kernel_size=3),   # → (B,64,28,28)\n",
    "                nn.LeakyReLU(0.1),\n",
    "                nn.MaxPool2d(3, 2),                 # → (B,64,13,13)\n",
    "                nn.Conv2d(64, 128, kernel_size=3),  # → (B,128,11,11)\n",
    "                nn.LeakyReLU(0.1),\n",
    "                nn.Conv2d(128, 128, kernel_size=3), # → (B,128,9,9)\n",
    "                nn.LeakyReLU(0.1),\n",
    "                nn.MaxPool2d(3, 2),                 # → (B,128,4,4)\n",
    "            )\n",
    "        self.i_path = conv_block()\n",
    "        self.q_path = conv_block()\n",
    "\n",
    "        # After two paths, flatten each into 2048, concat→4096\n",
    "        self.lstm = nn.LSTM(\n",
    "            input_size=4096,\n",
    "            hidden_size=256,\n",
    "            batch_first=True,\n",
    "            dropout=0.5\n",
    "        )\n",
    "        self.fc_stack = nn.Sequential(\n",
    "            nn.Linear(256, 1024), nn.LeakyReLU(0.1), nn.Dropout(0.5),\n",
    "            nn.Linear(1024,1024), nn.LeakyReLU(0.1), nn.Dropout(0.5),\n",
    "            nn.Linear(1024,1024), nn.LeakyReLU(0.1), nn.Dropout(0.5),\n",
    "            nn.Linear(1024,256),  nn.LeakyReLU(0.1), nn.Dropout(0.5),\n",
    "            nn.Linear(256,32),    nn.LeakyReLU(0.1),\n",
    "            nn.Linear(32,num_classes)\n",
    "        )\n",
    "\n",
    "    def forward(self, x):\n",
    "        # x: (B, 1024, 2)\n",
    "        B = x.size(0)\n",
    "        x = x.view(B, 32, 32, 2).permute(0,3,1,2)  # → (B,2,32,32)\n",
    "        i = x[:,0:1]  # (B,1,32,32)\n",
    "        q = x[:,1:2]  # (B,1,32,32)\n",
    "        i_feat = self.i_path(i).reshape(B, -1)  # (B,2048)\n",
    "        q_feat = self.q_path(q).reshape(B, -1)  # (B,2048)\n",
    "        combined = torch.cat((i_feat, q_feat), dim=1).unsqueeze(1)  # (B,1,4096)\n",
    "        lstm_out,_ = self.lstm(combined)                           # → (B,1,256)\n",
    "        x = lstm_out.squeeze(1)                                    # (B,256)\n",
    "        return self.fc_stack(x)                                    # (B,8)\n"
   ]
  },
  {
   "cell_type": "code",
   "execution_count": 68,
   "id": "f68f9ed9",
   "metadata": {},
   "outputs": [
    {
     "name": "stderr",
     "output_type": "stream",
     "text": [
      "/home/lipplopp/anaconda3/envs/ai_sdr/lib/python3.12/site-packages/torch/nn/modules/rnn.py:123: UserWarning: dropout option adds dropout after all but last recurrent layer, so non-zero dropout expects num_layers greater than 1, but got dropout=0.5 and num_layers=1\n",
      "  warnings.warn(\n"
     ]
    },
    {
     "name": "stdout",
     "output_type": "stream",
     "text": [
      "Using device: cuda\n"
     ]
    },
    {
     "name": "stderr",
     "output_type": "stream",
     "text": [
      "Epoch 1/25: 100%|██████████| 820/820 [00:34<00:00, 23.60it/s]\n"
     ]
    },
    {
     "name": "stdout",
     "output_type": "stream",
     "text": [
      "Train Loss: 1.0210 | Accuracy: 52.84%\n"
     ]
    },
    {
     "name": "stderr",
     "output_type": "stream",
     "text": [
      "Epoch 2/25: 100%|██████████| 820/820 [00:36<00:00, 22.60it/s]\n"
     ]
    },
    {
     "name": "stdout",
     "output_type": "stream",
     "text": [
      "Train Loss: 1.1541 | Accuracy: 48.53%\n"
     ]
    },
    {
     "name": "stderr",
     "output_type": "stream",
     "text": [
      "Epoch 3/25: 100%|██████████| 820/820 [00:37<00:00, 21.83it/s]\n"
     ]
    },
    {
     "name": "stdout",
     "output_type": "stream",
     "text": [
      "Train Loss: 1.3541 | Accuracy: 39.22%\n"
     ]
    },
    {
     "name": "stderr",
     "output_type": "stream",
     "text": [
      "Epoch 4/25: 100%|██████████| 820/820 [00:38<00:00, 21.47it/s]\n"
     ]
    },
    {
     "name": "stdout",
     "output_type": "stream",
     "text": [
      "Train Loss: 1.3154 | Accuracy: 41.76%\n"
     ]
    },
    {
     "name": "stderr",
     "output_type": "stream",
     "text": [
      "Epoch 5/25: 100%|██████████| 820/820 [00:37<00:00, 22.12it/s]\n"
     ]
    },
    {
     "name": "stdout",
     "output_type": "stream",
     "text": [
      "Train Loss: 2.0223 | Accuracy: 15.16%\n"
     ]
    },
    {
     "name": "stderr",
     "output_type": "stream",
     "text": [
      "Epoch 6/25: 100%|██████████| 820/820 [00:39<00:00, 21.00it/s]\n"
     ]
    },
    {
     "name": "stdout",
     "output_type": "stream",
     "text": [
      "Train Loss: 2.0806 | Accuracy: 12.44%\n"
     ]
    },
    {
     "name": "stderr",
     "output_type": "stream",
     "text": [
      "Epoch 7/25:  30%|██▉       | 245/820 [00:12<00:28, 20.26it/s]\n"
     ]
    },
    {
     "ename": "KeyboardInterrupt",
     "evalue": "",
     "output_type": "error",
     "traceback": [
      "\u001b[31m---------------------------------------------------------------------------\u001b[39m",
      "\u001b[31mKeyboardInterrupt\u001b[39m                         Traceback (most recent call last)",
      "\u001b[36mCell\u001b[39m\u001b[36m \u001b[39m\u001b[32mIn[68]\u001b[39m\u001b[32m, line 25\u001b[39m\n\u001b[32m     22\u001b[39m loss.backward()\n\u001b[32m     23\u001b[39m optimizer.step()\n\u001b[32m---> \u001b[39m\u001b[32m25\u001b[39m running_loss += \u001b[43mloss\u001b[49m\u001b[43m.\u001b[49m\u001b[43mitem\u001b[49m\u001b[43m(\u001b[49m\u001b[43m)\u001b[49m\n\u001b[32m     26\u001b[39m _, predicted = torch.max(outputs, \u001b[32m1\u001b[39m)\n\u001b[32m     27\u001b[39m correct += (predicted == yb).sum().item()\n",
      "\u001b[31mKeyboardInterrupt\u001b[39m: "
     ]
    }
   ],
   "source": [
    "device = torch.device(\"cuda\" if torch.cuda.is_available() else \"cpu\")\n",
    "print(\"Using device:\", device)\n",
    "\n",
    "model = CNNLSTMAMC(num_classes=8).to(device)\n",
    "optimizer = optim.Adam(model.parameters(), lr=1e-3)\n",
    "criterion = nn.CrossEntropyLoss()\n",
    "\n",
    "EPOCHS = 25\n",
    "\n",
    "for epoch in range(EPOCHS):\n",
    "    model.train()\n",
    "    running_loss = 0.0\n",
    "    correct = 0\n",
    "    total = 0\n",
    "\n",
    "    for xb, yb in tqdm(train_loader, desc=f\"Epoch {epoch+1}/{EPOCHS}\"):\n",
    "        xb, yb = xb.to(device), yb.to(device)\n",
    "\n",
    "        optimizer.zero_grad()\n",
    "        outputs = model(xb)\n",
    "        loss = criterion(outputs, yb)\n",
    "        loss.backward()\n",
    "        optimizer.step()\n",
    "\n",
    "        running_loss += loss.item()\n",
    "        _, predicted = torch.max(outputs, 1)\n",
    "        correct += (predicted == yb).sum().item()\n",
    "        total += yb.size(0)\n",
    "\n",
    "    acc = correct / total\n",
    "    print(f\"Train Loss: {running_loss/len(train_loader):.4f} | Accuracy: {acc*100:.2f}%\")\n"
   ]
  },
  {
   "cell_type": "code",
   "execution_count": 65,
   "id": "d943c573",
   "metadata": {},
   "outputs": [
    {
     "name": "stdout",
     "output_type": "stream",
     "text": [
      "\n",
      "🧪 Test Accuracy: 45.33%\n"
     ]
    }
   ],
   "source": [
    "model.eval()\n",
    "correct = 0\n",
    "total = 0\n",
    "\n",
    "with torch.no_grad():\n",
    "    for xb, yb in test_loader:\n",
    "        xb, yb = xb.to(device), yb.to(device)\n",
    "        outputs = model(xb)\n",
    "        _, predicted = torch.max(outputs, 1)\n",
    "        correct += (predicted == yb).sum().item()\n",
    "        total += yb.size(0)\n",
    "\n",
    "test_acc = correct / total\n",
    "print(f\"\\n🧪 Test Accuracy: {test_acc * 100:.2f}%\")"
   ]
  },
  {
   "cell_type": "code",
   "execution_count": 66,
   "id": "d10771ff",
   "metadata": {},
   "outputs": [
    {
     "data": {
      "image/png": "[encoded data removed]",
      "text/plain": [
       "<Figure size 640x480 with 2 Axes>"
      ]
     },
     "metadata": {},
     "output_type": "display_data"
    }
   ],
   "source": [
    "from sklearn.metrics import confusion_matrix, ConfusionMatrixDisplay\n",
    "import matplotlib.pyplot as plt\n",
    "\n",
    "all_preds = []\n",
    "all_labels = []\n",
    "\n",
    "model.eval()\n",
    "with torch.no_grad():\n",
    "    for xb, yb in test_loader:\n",
    "        xb = xb.to(device)\n",
    "        outputs = model(xb)\n",
    "        preds = torch.argmax(outputs, dim=1).cpu().numpy()\n",
    "        all_preds.extend(preds)\n",
    "        all_labels.extend(yb.numpy())\n",
    "\n",
    "cm = confusion_matrix(all_labels, all_preds)\n",
    "disp = ConfusionMatrixDisplay(cm, display_labels=selected_mods)\n",
    "disp.plot(cmap=\"Blues\", xticks_rotation=45)\n",
    "plt.title(\"Confusion Matrix\")\n",
    "plt.show()\n"
   ]
  },
  {
   "cell_type": "code",
   "execution_count": null,
   "id": "71ab1c74",
   "metadata": {},
   "outputs": [],
   "source": []
  }
 ],
 "metadata": {
  "kernelspec": {
   "display_name": "Python 3",
   "language": "python",
   "name": "python3"
  },
  "language_info": {
   "codemirror_mode": {
    "name": "ipython",
    "version": 3
   },
   "file_extension": ".py",
   "mimetype": "text/x-python",
   "name": "python",
   "nbconvert_exporter": "python",
   "pygments_lexer": "ipython3",
   "version": "3.12.10"
  }
 },
 "nbformat": 4,
 "nbformat_minor": 5
}
