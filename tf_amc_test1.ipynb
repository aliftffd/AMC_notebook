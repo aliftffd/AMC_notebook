{
 "cells": [
  {
   "cell_type": "code",
   "execution_count": 2,
   "id": "4c102765-eba1-4e12-a3e6-d4c7548472cb",
   "metadata": {},
   "outputs": [],
   "source": [
    "import os\n",
    "os.environ['TF_CPP_MIN_LOG_LEVEL'] = '2'  # Suppress most logs"
   ]
  },
  {
   "cell_type": "code",
   "execution_count": 4,
   "id": "43ef9980-39ae-4c51-860b-9dc95f810f5f",
   "metadata": {},
   "outputs": [
    {
     "name": "stdout",
     "output_type": "stream",
     "text": [
      "GPUs Available: [PhysicalDevice(name='/physical_device:GPU:0', device_type='GPU')]\n"
     ]
    }
   ],
   "source": [
    "import tensorflow as tf\n",
    "print(\"GPUs Available:\", tf.config.list_physical_devices('GPU'))"
   ]
  },
  {
   "cell_type": "code",
   "execution_count": 11,
   "id": "fafc07ff-43b4-4edb-adec-fef4c57593f5",
   "metadata": {},
   "outputs": [],
   "source": [
    "import json \n",
    "import numpy as np\n",
    "import pandas as pd\n",
    "from tqdm import tqdm\n",
    "import gc\n",
    "from tensorflow.keras import datasets, layers, models\n",
    "from tensorflow.keras.layers import Reshape, Conv2D, MaxPool2D, ZeroPadding2D, Dense, Dropout, Activation, Flatten, GaussianNoise"
   ]
  },
  {
   "cell_type": "code",
   "execution_count": 5,
   "id": "c87c0c46-8b0f-4f50-bc3f-62e3293be58e",
   "metadata": {},
   "outputs": [],
   "source": [
    "FILE_PATH = '/home/lipplopp/Documents/research/notebook/notebook_1/dataset/radioml2018/versions/2/GOLD_XYZ_OSC.0001_1024.hdf5'\n",
    "JSON_PATH = '/home/lipplopp/Documents/research/notebook/notebook_1/dataset/radioml2018/versions/2/classes-fixed.json'"
   ]
  },
  {
   "cell_type": "code",
   "execution_count": 8,
   "id": "ba0bfb99-edd5-459a-9e2c-b891c2c13866",
   "metadata": {},
   "outputs": [
    {
     "name": "stdout",
     "output_type": "stream",
     "text": [
      "Found 24 modulations:\n",
      " ['OOK', '4ASK', '8ASK', 'BPSK', 'QPSK', '8PSK', '16PSK', '32PSK', '16APSK', '32APSK', '64APSK', '128APSK', '16QAM', '32QAM', '64QAM', '128QAM', '256QAM', 'AM-SSB-WC', 'AM-SSB-SC', 'AM-DSB-WC', 'AM-DSB-SC', 'FM', 'GMSK', 'OQPSK']\n"
     ]
    }
   ],
   "source": [
    "with open(JSON_PATH, 'r') as f:\n",
    "    fixed_classes = json.load(f)\n",
    "\n",
    "print(f\"Found {len(fixed_classes)} modulations:\\n\", fixed_classes)"
   ]
  },
  {
   "cell_type": "code",
   "execution_count": null,
   "id": "8e2b7338-f4f7-4b62-ab48-a84dc505f24f",
   "metadata": {},
   "outputs": [],
   "source": []
  }
 ],
 "metadata": {
  "kernelspec": {
   "display_name": "Python (tf_amc)",
   "language": "python",
   "name": "tf_amc"
  },
  "language_info": {
   "codemirror_mode": {
    "name": "ipython",
    "version": 3
   },
   "file_extension": ".py",
   "mimetype": "text/x-python",
   "name": "python",
   "nbconvert_exporter": "python",
   "pygments_lexer": "ipython3",
   "version": "3.11.11"
  }
 },
 "nbformat": 4,
 "nbformat_minor": 5
}
